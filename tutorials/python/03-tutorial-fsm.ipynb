{
 "cells": [
  {
   "cell_type": "markdown",
   "metadata": {},
   "source": [
    "# Duckietown NCTU - Tutorial 3: Finite State Machine\n",
    "\n",
    "By Chang-Yi Kuo, Brian Chuang, and Nick Wang\n",
    "\n",
    "Before you run the jupyter notebook, make sure you \n",
    "\n",
    "duckiebot $ roslaunch duckietown_nctu_wama joystick_jupyter.launch veh:=duckiebot\n",
    "\n",
    "duckietop $ source ~/duckietown/environment.sh\n",
    "\n",
    "duckietop $ source ~/duckietown/set_ros_master.sh duckiebot # your duckiebot\n",
    "\n",
    "If you duckiebot is almost full, you could clean the cache files (~500MB).\n",
    "\n",
    "duckiebot $ sudo apt-get clean"
   ]
  },
  {
   "cell_type": "markdown",
   "metadata": {},
   "source": [
    "## Import Packages"
   ]
  },
  {
   "cell_type": "code",
   "execution_count": 1,
   "metadata": {
    "collapsed": false
   },
   "outputs": [],
   "source": [
    "import numpy as np\n",
    "import scipy as sp\n",
    "import cv2\n",
    "import time\n",
    "\n",
    "from matplotlib import pyplot as plt\n",
    "%matplotlib inline\n",
    "# set display defaults\n",
    "plt.rcParams['figure.figsize'] = (10, 10)        # large images\n",
    "plt.rcParams['image.interpolation'] = 'nearest'  # don't interpolate: show square pixels"
   ]
  },
  {
   "cell_type": "markdown",
   "metadata": {},
   "source": [
    "## ROS Setup"
   ]
  },
  {
   "cell_type": "code",
   "execution_count": 2,
   "metadata": {
    "collapsed": false
   },
   "outputs": [],
   "source": [
    "import sys\n",
    "# rospy\n",
    "sys.path.insert(0, '/opt/ros/indigo/lib/python2.7/dist-packages')\n",
    "# rospkg\n",
    "sys.path.insert(0, '/usr/lib/python2.7/dist-packages/')\n",
    "\n",
    "# duckietown_msgs\n",
    "duckietown_root = '../../'  # this file should be run from {duckietown_root}/turorials/python (otherwise change this line)\n",
    "sys.path.insert(0, duckietown_root + 'catkin_ws/devel/lib/python2.7/dist-packages')\n",
    "\n",
    "import rospy\n",
    "from duckietown_msgs.msg import  Twist2DStamped\n"
   ]
  },
  {
   "cell_type": "markdown",
   "metadata": {},
   "source": [
    "### initial a rosnode"
   ]
  },
  {
   "cell_type": "code",
   "execution_count": 3,
   "metadata": {
    "collapsed": false
   },
   "outputs": [],
   "source": [
    "rospy.init_node(\"joystick_jupyter\",anonymous=False)\n",
    "#please replace \"wama\" with your duckiebot name\n",
    "pub_car_cmd = rospy.Publisher(\"/trabant/joystick_jupyter/car_cmd\",Twist2DStamped,queue_size=1)\n",
    "#rospy.spin()"
   ]
  },
  {
   "cell_type": "markdown",
   "metadata": {},
   "source": [
    "### define function for publishing car command "
   ]
  },
  {
   "cell_type": "code",
   "execution_count": 4,
   "metadata": {
    "collapsed": false
   },
   "outputs": [],
   "source": [
    "def car_command(v, omega, duration):\n",
    "# Send stop command\n",
    "    car_control_msg = Twist2DStamped()\n",
    "    car_control_msg.v = v \n",
    "    car_control_msg.omega = omega \n",
    "    pub_car_cmd.publish(car_control_msg)\n",
    "    rospy.sleep(duration)\n",
    "    #rospy.loginfo(\"Shutdown\")\n",
    "    car_control_msg.v = 0.0 \n",
    "    car_control_msg.omega = 0.0 \n",
    "    pub_car_cmd.publish(car_control_msg)   \n"
   ]
  },
  {
   "cell_type": "code",
   "execution_count": 5,
   "metadata": {
    "collapsed": false,
    "scrolled": true
   },
   "outputs": [
    {
     "name": "stdout",
     "output_type": "stream",
     "text": [
      "/rosout\n",
      "/rosout_agg\n",
      "/trabant/inverse_kinematics_node/wheels_cmd\n",
      "/trabant/joystick_jupyter/car_cmd\n",
      "/trabant/wheels_driver_node/emergency_stop\n",
      "/trabant/wheels_driver_node/wheels_cmd_executed\n"
     ]
    }
   ],
   "source": [
    "%%bash\n",
    "rostopic list"
   ]
  },
  {
   "cell_type": "markdown",
   "metadata": {},
   "source": [
    "## Set State"
   ]
  },
  {
   "cell_type": "code",
   "execution_count": 10,
   "metadata": {
    "collapsed": false
   },
   "outputs": [
    {
     "name": "stderr",
     "output_type": "stream",
     "text": [
      "UsageError: %%bash is a cell magic, but the cell body is empty.\n"
     ]
    }
   ],
   "source": [
    "%%bash\n"
   ]
  },
  {
   "cell_type": "markdown",
   "metadata": {},
   "source": [
    "## EXERCISE: Forward (F), Turn Left (L), or Turn Right (R)\n",
    "\n",
    "Send commands and calibrate your duckiebot"
   ]
  },
  {
   "cell_type": "markdown",
   "metadata": {},
   "source": [
    "### Ex1: Forward 0.5 Tile Width"
   ]
  },
  {
   "cell_type": "code",
   "execution_count": 6,
   "metadata": {
    "collapsed": false
   },
   "outputs": [],
   "source": [
    "car_command(0.5, 0, 0.75)"
   ]
  },
  {
   "cell_type": "markdown",
   "metadata": {},
   "source": [
    "### EX2: Turn 45 or 90 Degrees"
   ]
  },
  {
   "cell_type": "code",
   "execution_count": 6,
   "metadata": {
    "collapsed": true
   },
   "outputs": [],
   "source": [
    "car_command(0.2, 4, 1.25)"
   ]
  },
  {
   "cell_type": "markdown",
   "metadata": {},
   "source": [
    "* switch"
   ]
  },
  {
   "cell_type": "code",
   "execution_count": 7,
   "metadata": {
    "collapsed": true
   },
   "outputs": [],
   "source": [
    "class switch(object):\n",
    "    def __init__(self, value):\n",
    "        self.value = value\n",
    "        self.fall = False\n",
    " \n",
    "    def __iter__(self):\n",
    "        \"\"\"Return the match method once, then stop\"\"\"\n",
    "        yield self.match\n",
    "        raise StopIteration\n",
    "     \n",
    "    def match(self, *args):\n",
    "        \"\"\"Indicate whether or not to enter a case suite\"\"\"\n",
    "        if self.fall or not args:\n",
    "            return True\n",
    "        elif self.value in args: # changed for v1.5, see below\n",
    "            self.fall = True\n",
    "            return True\n",
    "        else:\n",
    "            return False"
   ]
  },
  {
   "cell_type": "markdown",
   "metadata": {},
   "source": [
    "### motion planing lookup function"
   ]
  },
  {
   "cell_type": "code",
   "execution_count": 8,
   "metadata": {
    "collapsed": false
   },
   "outputs": [],
   "source": [
    "def motion_planing(concat):\n",
    "    for i in range(len(concat)):\n",
    "        primitives = concat[i]\n",
    "        for case in switch(primitives):\n",
    "            if case('S'):\n",
    "                car_command(0.5, 0, 0.6)\n",
    "                break\n",
    "            if case('L'):\n",
    "                car_command(0.2, 4, 0.7)\n",
    "                break\n",
    "            if case('R'):\n",
    "                car_command(0.2, -4, 0.5)\n",
    "                break\n",
    "            if case('B'):\n",
    "                car_command(-0.4, 0, 0.5)\n",
    "                break"
   ]
  },
  {
   "cell_type": "markdown",
   "metadata": {},
   "source": [
    "### example: overtaking"
   ]
  },
  {
   "cell_type": "code",
   "execution_count": 9,
   "metadata": {
    "collapsed": true
   },
   "outputs": [],
   "source": [
    "overtaking = \"LSRSSRSLSS\"\n",
    "motion_planing(overtaking)"
   ]
  },
  {
   "cell_type": "markdown",
   "metadata": {},
   "source": [
    "### example: parking "
   ]
  },
  {
   "cell_type": "code",
   "execution_count": 12,
   "metadata": {
    "collapsed": true
   },
   "outputs": [],
   "source": [
    "parking = \"BBLBBB\"\n",
    "motion_planing(parking)"
   ]
  },
  {
   "cell_type": "code",
   "execution_count": null,
   "metadata": {
    "collapsed": true
   },
   "outputs": [],
   "source": []
  }
 ],
 "metadata": {
  "anaconda-cloud": {},
  "kernelspec": {
   "display_name": "Python [default]",
   "language": "python",
   "name": "python2"
  },
  "language_info": {
   "codemirror_mode": {
    "name": "ipython",
    "version": 2
   },
   "file_extension": ".py",
   "mimetype": "text/x-python",
   "name": "python",
   "nbconvert_exporter": "python",
   "pygments_lexer": "ipython2",
   "version": "2.7.12"
  }
 },
 "nbformat": 4,
 "nbformat_minor": 1
}
