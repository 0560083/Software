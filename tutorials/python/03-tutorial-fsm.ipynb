{
 "cells": [
  {
   "cell_type": "markdown",
   "metadata": {},
   "source": [
    "# Duckietown NCTU - Tutorial 3: Finite State Machine\n",
    "\n",
    "By Chang-Yi Kuo, Brian Chuang, and Nick Wang\n",
    "\n",
    "Before you run this jupyter notebook on your duckietop, make sure you \n",
    "\n",
    "```sh\n",
    "duckietop $ roslaunch duckietown_nctu_wama joystick_jupyter.launch veh:=duckiebot\n",
    "duckietop $ source ~/duckietown/environment.sh\n",
    "duckietop $ source ~/duckietown/set_ros_master.sh duckiebot # your duckiebot\n",
    "```\n",
    "\n",
    "On duckiebot, You should also start a the launch\n",
    "```sh\n",
    "duckiebot $ roslaunch duckietown_nctu_kaku AGV.launch veh:=duckiebot\n",
    "```\n",
    "\n",
    "or\n",
    "\n",
    "```sh\n",
    "duckiebot $ roslaunch duckietown_nctu_wama joystick_jupyter.launch veh:=duckiebot\n",
    "```\n",
    "\n",
    "If you duckiebot is almost full, you could clean the cache files (~500MB).\n",
    "\n",
    "```sh\n",
    "duckiebot $ sudo apt-get clean\n",
    "```"
   ]
  },
  {
   "cell_type": "markdown",
   "metadata": {},
   "source": [
    "## Import Packages"
   ]
  },
  {
   "cell_type": "code",
   "execution_count": 1,
   "metadata": {
    "collapsed": false
   },
   "outputs": [],
   "source": [
    "import numpy as np\n",
    "import scipy as sp\n",
    "import cv2\n",
    "import time\n",
    "\n",
    "from matplotlib import pyplot as plt\n",
    "%matplotlib inline\n",
    "# set display defaults\n",
    "plt.rcParams['figure.figsize'] = (10, 10)        # large images\n",
    "plt.rcParams['image.interpolation'] = 'nearest'  # don't interpolate: show square pixels"
   ]
  },
  {
   "cell_type": "markdown",
   "metadata": {},
   "source": [
    "## ROS Setup"
   ]
  },
  {
   "cell_type": "code",
   "execution_count": 2,
   "metadata": {
    "collapsed": false
   },
   "outputs": [],
   "source": [
    "import sys\n",
    "# rospy\n",
    "sys.path.insert(0, '/opt/ros/indigo/lib/python2.7/dist-packages')\n",
    "# rospkg\n",
    "sys.path.insert(0, '/usr/lib/python2.7/dist-packages/')\n",
    "\n",
    "# duckietown_msgs\n",
    "duckietown_root = '../../'  # this file should be run from {duckietown_root}/turorials/python (otherwise change this line)\n",
    "sys.path.insert(0, duckietown_root + 'catkin_ws/devel/lib/python2.7/dist-packages')\n",
    "\n",
    "import rospy\n",
    "from duckietown_msgs.msg import  Twist2DStamped\n"
   ]
  },
  {
   "cell_type": "markdown",
   "metadata": {},
   "source": [
    "### initial a rosnode"
   ]
  },
  {
   "cell_type": "code",
   "execution_count": 3,
   "metadata": {
    "collapsed": false
   },
   "outputs": [],
   "source": [
    "rospy.init_node(\"jupyter_control\",anonymous=False)\n",
    "#please replace \"wama\" with your duckiebot name\n",
    "pub_car_cmd = rospy.Publisher(\"/trabant/car_cmd_switch_node/cmd\",Twist2DStamped,queue_size=1)\n",
    "#rospy.spin()"
   ]
  },
  {
   "cell_type": "markdown",
   "metadata": {},
   "source": [
    "### define function for publishing car command "
   ]
  },
  {
   "cell_type": "code",
   "execution_count": 4,
   "metadata": {
    "collapsed": false
   },
   "outputs": [],
   "source": [
    "def car_command(v, omega, duration):\n",
    "# Send stop command\n",
    "    car_control_msg = Twist2DStamped()\n",
    "    car_control_msg.v = v \n",
    "    car_control_msg.omega = omega \n",
    "    pub_car_cmd.publish(car_control_msg)\n",
    "    rospy.sleep(duration)\n",
    "    #rospy.loginfo(\"Shutdown\")\n",
    "    car_control_msg.v = 0.0 \n",
    "    car_control_msg.omega = 0.0 \n",
    "    pub_car_cmd.publish(car_control_msg)   \n"
   ]
  },
  {
   "cell_type": "code",
   "execution_count": 5,
   "metadata": {
    "collapsed": false,
    "scrolled": true
   },
   "outputs": [
    {
     "name": "stdout",
     "output_type": "stream",
     "text": [
      "/diagnostics\n",
      "/rosout\n",
      "/rosout_agg\n",
      "/trabant/LED_detector_node/switch\n",
      "/trabant/anti_instagram_node/click\n",
      "/trabant/anti_instagram_node/corrected_image\n",
      "/trabant/anti_instagram_node/health\n",
      "/trabant/anti_instagram_node/transform\n",
      "/trabant/apriltag_detector_node/switch\n",
      "/trabant/camera_node/camera_info\n",
      "/trabant/camera_node/framerate_high_switch\n",
      "/trabant/camera_node/image/compressed\n",
      "/trabant/car_cmd_switch_node/cmd\n",
      "/trabant/decoder_node/switch\n",
      "/trabant/duckiebot_visualizer/segment_list_markers\n",
      "/trabant/fsm_node/mode\n",
      "/trabant/ground_projection/lineseglist_out\n",
      "/trabant/joy\n",
      "/trabant/joy_mapper_node/car_cmd\n",
      "/trabant/joy_mapper_node/joystick_override\n",
      "/trabant/joy_mapper_node/parallel_autonomy\n",
      "/trabant/joy_mapper_node/start_avoidance\n",
      "/trabant/lane_controller_node/car_cmd\n",
      "/trabant/lane_filter_node/belief_img\n",
      "/trabant/lane_filter_node/entropy\n",
      "/trabant/lane_filter_node/in_lane\n",
      "/trabant/lane_filter_node/lane_pose\n",
      "/trabant/lane_filter_node/switch\n",
      "/trabant/lane_pose_visualizer_node/lane_pose_markers\n",
      "/trabant/lane_recovery_node/car_cmd\n",
      "/trabant/lane_supervisor_node/car_cmd\n",
      "/trabant/led_emitter_node/change_color_pattern\n",
      "/trabant/led_emitter_node/current_led_state\n",
      "/trabant/led_emitter_node/switch\n",
      "/trabant/line_detector_node/colorSegment\n",
      "/trabant/line_detector_node/edge\n",
      "/trabant/line_detector_node/image_with_lines\n",
      "/trabant/line_detector_node/segment_list\n",
      "/trabant/line_detector_node/switch\n",
      "/trabant/logic_gate_node/intersection_done_and_not_parallel_autonomy\n",
      "/trabant/logic_gate_node/intersection_done_and_parallel_autonomy\n",
      "/trabant/obstacle_safety_node/object_too_close\n",
      "/trabant/open_loop_intersection_control_node/car_cmd\n",
      "/trabant/open_loop_intersection_control_node/intersection_done\n",
      "/trabant/simple_coordinator_node/car_cmd\n",
      "/trabant/simple_coordinator_node/intersection_go\n",
      "/trabant/simple_stop_controller_node/car_cmd\n",
      "/trabant/static_object_detector_node/switch\n",
      "/trabant/stop_line_filter_node/at_stop_line\n",
      "/trabant/stop_line_filter_node/stop_line_reading\n",
      "/trabant/stop_line_filter_node/switch\n",
      "/trabant/vehicle_avoidance_control_node/car_cmd\n",
      "/trabant/vehicle_avoidance_control_node/vehicle_detected\n",
      "/trabant/vehicle_detection_node/switch\n",
      "/trabant/wheels_driver_node/emergency_stop\n",
      "/trabant/wheels_driver_node/wheels_cmd\n",
      "/trabant/wheels_driver_node/wheels_cmd_executed\n"
     ]
    }
   ],
   "source": [
    "%%bash\n",
    "rostopic list"
   ]
  },
  {
   "cell_type": "markdown",
   "metadata": {},
   "source": [
    "## Set State"
   ]
  },
  {
   "cell_type": "code",
   "execution_count": 16,
   "metadata": {
    "collapsed": false
   },
   "outputs": [
    {
     "name": "stdout",
     "output_type": "stream",
     "text": [
      "\n"
     ]
    }
   ],
   "source": [
    "%%bash\n",
    "rosservice call /trabant/fsm_node/set_state LANE_FOLLOWING"
   ]
  },
  {
   "cell_type": "code",
   "execution_count": 7,
   "metadata": {
    "collapsed": false
   },
   "outputs": [
    {
     "name": "stdout",
     "output_type": "stream",
     "text": [
      "\n"
     ]
    }
   ],
   "source": [
    "%%bash\n",
    "rosservice call /trabant/fsm_node/set_state JOYSTICK_CONTROL"
   ]
  },
  {
   "cell_type": "code",
   "execution_count": 10,
   "metadata": {
    "collapsed": false
   },
   "outputs": [
    {
     "name": "stdout",
     "output_type": "stream",
     "text": [
      "\n"
     ]
    }
   ],
   "source": [
    "%%bash\n",
    "rosservice call /trabant/fsm_node/set_state JUPYTER_CONTROL"
   ]
  },
  {
   "cell_type": "markdown",
   "metadata": {},
   "source": [
    "## EXERCISE: Forward (F), Turn Left (L), or Turn Right (R)\n",
    "\n",
    "Send commands and calibrate your duckiebot"
   ]
  },
  {
   "cell_type": "markdown",
   "metadata": {},
   "source": [
    "### Ex1: Forward 0.5 Tile Width"
   ]
  },
  {
   "cell_type": "code",
   "execution_count": 11,
   "metadata": {
    "collapsed": false
   },
   "outputs": [],
   "source": [
    "car_command(0.5, 0, 0.75)"
   ]
  },
  {
   "cell_type": "markdown",
   "metadata": {},
   "source": [
    "### EX2: Turn 45 or 90 Degrees"
   ]
  },
  {
   "cell_type": "code",
   "execution_count": 9,
   "metadata": {
    "collapsed": false
   },
   "outputs": [],
   "source": [
    "car_command(0.2, 4, 1.25)"
   ]
  },
  {
   "cell_type": "markdown",
   "metadata": {},
   "source": [
    "* switch"
   ]
  },
  {
   "cell_type": "code",
   "execution_count": 7,
   "metadata": {
    "collapsed": true
   },
   "outputs": [],
   "source": [
    "class switch(object):\n",
    "    def __init__(self, value):\n",
    "        self.value = value\n",
    "        self.fall = False\n",
    " \n",
    "    def __iter__(self):\n",
    "        \"\"\"Return the match method once, then stop\"\"\"\n",
    "        yield self.match\n",
    "        raise StopIteration\n",
    "     \n",
    "    def match(self, *args):\n",
    "        \"\"\"Indicate whether or not to enter a case suite\"\"\"\n",
    "        if self.fall or not args:\n",
    "            return True\n",
    "        elif self.value in args: # changed for v1.5, see below\n",
    "            self.fall = True\n",
    "            return True\n",
    "        else:\n",
    "            return False"
   ]
  },
  {
   "cell_type": "markdown",
   "metadata": {},
   "source": [
    "### motion planing lookup function"
   ]
  },
  {
   "cell_type": "code",
   "execution_count": 8,
   "metadata": {
    "collapsed": false
   },
   "outputs": [],
   "source": [
    "def motion_planing(concat):\n",
    "    for i in range(len(concat)):\n",
    "        primitives = concat[i]\n",
    "        for case in switch(primitives):\n",
    "            if case('S'):\n",
    "                car_command(0.5, 0, 0.6)\n",
    "                break\n",
    "            if case('L'):\n",
    "                car_command(0.2, 4, 0.7)\n",
    "                break\n",
    "            if case('R'):\n",
    "                car_command(0.2, -4, 0.5)\n",
    "                break\n",
    "            if case('B'):\n",
    "                car_command(-0.4, 0, 0.5)\n",
    "                break"
   ]
  },
  {
   "cell_type": "markdown",
   "metadata": {},
   "source": [
    "### example: overtaking"
   ]
  },
  {
   "cell_type": "code",
   "execution_count": 9,
   "metadata": {
    "collapsed": true
   },
   "outputs": [],
   "source": [
    "overtaking = \"LSRSSRSLSS\"\n",
    "motion_planing(overtaking)"
   ]
  },
  {
   "cell_type": "markdown",
   "metadata": {},
   "source": [
    "### example: parking "
   ]
  },
  {
   "cell_type": "code",
   "execution_count": 12,
   "metadata": {
    "collapsed": true
   },
   "outputs": [],
   "source": [
    "parking = \"BBLBBB\"\n",
    "motion_planing(parking)"
   ]
  },
  {
   "cell_type": "code",
   "execution_count": null,
   "metadata": {
    "collapsed": true
   },
   "outputs": [],
   "source": []
  }
 ],
 "metadata": {
  "anaconda-cloud": {},
  "kernelspec": {
   "display_name": "Python [default]",
   "language": "python",
   "name": "python2"
  },
  "language_info": {
   "codemirror_mode": {
    "name": "ipython",
    "version": 2
   },
   "file_extension": ".py",
   "mimetype": "text/x-python",
   "name": "python",
   "nbconvert_exporter": "python",
   "pygments_lexer": "ipython2",
   "version": "2.7.12"
  }
 },
 "nbformat": 4,
 "nbformat_minor": 1
}
