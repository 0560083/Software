{
 "cells": [
  {
   "cell_type": "code",
   "execution_count": 1,
   "metadata": {
    "collapsed": false
   },
   "outputs": [
    {
     "ename": "SyntaxError",
     "evalue": "invalid syntax (<ipython-input-1-e476ccac416e>, line 3)",
     "output_type": "error",
     "traceback": [
      "\u001b[1;36m  File \u001b[1;32m\"<ipython-input-1-e476ccac416e>\"\u001b[1;36m, line \u001b[1;32m3\u001b[0m\n\u001b[1;33m    *Objective: this jupyter notebook is intended to evaluate how the students understand the Duckietown repo\u001b[0m\n\u001b[1;37m    ^\u001b[0m\n\u001b[1;31mSyntaxError\u001b[0m\u001b[1;31m:\u001b[0m invalid syntax\n"
     ]
    }
   ],
   "source": [
    "# Create Software Project - Take Home Midterm Exam/Assignment\n",
    "\n",
    "*Objective: this jupyter notebook is intended to evaluate how the students understand the Duckietown repo\n",
    "\n",
    "Prof. Nick Wang, 2016/11/7"
   ]
  },
  {
   "cell_type": "markdown",
   "metadata": {},
   "source": [
    "## Instructions: \n",
    "1. $ cp assignment1.ipynb assignment1-XXXXXXX.ipynb (XXXXXXX is your name) You also need to add your name, setup, and state the contributions in the setup and contributions section.\n",
    "2. You can already see the desired outputs of each cell, and you need to find the relevant code in the Duckietown repo and reproduce the results.\n",
    "3. Each student needs to submit one to your mentor, via email. Please do not commit your ipynb to repo. Please do not modify assignment1.ipynb.\n"
   ]
  },
  {
   "cell_type": "markdown",
   "metadata": {},
   "source": [
    "## Steup and Conributions:\n",
    "\n",
    "This work is done by: 蔡秉燊\n",
    "\n",
    "VirtualBox 5.1.6 version on Windows 7\n",
    "\n",
    "I ask TA and classmates many questions, and discuss with my group members for hours."
   ]
  },
  {
   "cell_type": "markdown",
   "metadata": {
    "collapsed": true
   },
   "source": [
    "# Line Detector"
   ]
  },
  {
   "cell_type": "markdown",
   "metadata": {},
   "source": [
    "### 1.Load the image and resize"
   ]
  },
  {
   "cell_type": "code",
   "execution_count": 2,
   "metadata": {
    "collapsed": false,
    "scrolled": false
   },
   "outputs": [],
   "source": [
    "import cv2\n",
    "import numpy as np\n",
    "from matplotlib import pyplot as plt\n",
    "\n",
    "img = cv2.imread(\"images/a.jpg\")\n",
    "\n",
    "image_cv = cv2.resize(img, (640, 480),interpolation=cv2.INTER_NEAREST)\n",
    "\n",
    "dst1 = cv2.cvtColor(img,cv2.COLOR_BGR2RGB)\n",
    "plt.subplot(121),plt.imshow(dst1,cmap = 'brg')\n",
    "plt.title('Original Image'), plt.xticks([]), plt.yticks([])\n",
    "\n",
    "dst2 = cv2.cvtColor(image_cv,cv2.COLOR_BGR2RGB)\n",
    "plt.subplot(122),plt.imshow(dst2,cmap = 'brg')\n",
    "plt.title('Resized Image'), plt.xticks([]), plt.yticks([])\n",
    "\n",
    "plt.show()\n"
   ]
  },
  {
   "cell_type": "markdown",
   "metadata": {},
   "source": [
    "### 2.Find the edge (15%)"
   ]
  },
  {
   "cell_type": "code",
   "execution_count": 3,
   "metadata": {
    "collapsed": false
   },
   "outputs": [],
   "source": [
    "#gray = ???\n",
    "\n",
    "edges = cv2.Canny(image_cv,60,150)\n",
    "\n",
    "plt.imshow(edges,cmap = 'gray')\n",
    "plt.title('Edge Image'), plt.xticks([]), plt.yticks([])\n",
    "plt.show()"
   ]
  },
  {
   "cell_type": "markdown",
   "metadata": {},
   "source": [
    "### 3-1.Setup HSV space threshold (15%)"
   ]
  },
  {
   "cell_type": "code",
   "execution_count": 4,
   "metadata": {
    "collapsed": false
   },
   "outputs": [],
   "source": [
    "'''\n",
    "#You should find the config file 'universal.yaml'\n",
    "'''\n",
    "hsv_white1 = np.array([0, 0, 150])\n",
    "hsv_white2 = np.array([180, 50, 255])\n",
    "hsv_yellow1 = np.array([25, 120, 90])\n",
    "hsv_yellow2 = np.array([45, 255, 255])\n",
    "hsv_red1 = np.array([0, 140, 100])\n",
    "hsv_red2 = np.array([15, 255, 255])\n",
    "hsv_red3 = np.array([165, 140, 100])\n",
    "hsv_red4 = np.array([180, 255, 255])\n"
   ]
  },
  {
   "cell_type": "markdown",
   "metadata": {},
   "source": [
    "### 3-2.Threshold colors in HSV space (15%)"
   ]
  },
  {
   "cell_type": "code",
   "execution_count": 5,
   "metadata": {
    "collapsed": false,
    "scrolled": true
   },
   "outputs": [],
   "source": [
    "'''\n",
    "#change color space to HSV\n",
    "'''\n",
    "hsv = cv2.cvtColor(image_cv, cv2.COLOR_BGR2HSV)\n",
    "\n",
    "white = cv2.inRange(hsv, hsv_white1, hsv_white2)\n",
    "kernel = cv2.getStructuringElement(cv2.MORPH_ELLIPSE,(3, 3))\n",
    "white = cv2.dilate(white, kernel)\n",
    "\n",
    "yellow = cv2.inRange(hsv, hsv_yellow1, hsv_yellow2)\n",
    "kernel = cv2.getStructuringElement(cv2.MORPH_ELLIPSE,(3, 3))\n",
    "yellow = cv2.dilate(yellow, kernel)\n",
    "\n",
    "red1 = cv2.inRange(hsv, hsv_red1, hsv_red2)\n",
    "red2 = cv2.inRange(hsv, hsv_red3, hsv_red4)\n",
    "red = cv2.bitwise_or(red1, red2)\n",
    "kernel = cv2.getStructuringElement(cv2.MORPH_ELLIPSE,(3, 3))\n",
    "red = cv2.dilate(red, kernel)\n",
    "\n",
    "x = cv2.cvtColor(yellow, cv2.COLOR_GRAY2BGR)\n",
    "x[:,:,2] *= 1\n",
    "x[:,:,1] *= 1\n",
    "x[:,:,0] *= 0\n",
    "x = cv2.cvtColor(x, cv2.COLOR_BGR2RGB)\n",
    "\n",
    "y = cv2.cvtColor(red, cv2.COLOR_GRAY2BGR)\n",
    "y[:,:,2] *= 1\n",
    "y[:,:,1] *= 0\n",
    "y[:,:,0] *= 0\n",
    "y = cv2.cvtColor(y, cv2.COLOR_BGR2RGB)\n",
    "\n",
    "plt.subplot(131),plt.imshow(white,cmap = 'gray')\n",
    "plt.title('White'), plt.xticks([]), plt.yticks([])\n",
    "\n",
    "plt.subplot(132),plt.imshow(yellow,cmap = 'gray')\n",
    "plt.subplot(132),plt.imshow(x,cmap = 'brg')\n",
    "plt.title('Yellow'), plt.xticks([]), plt.yticks([])\n",
    "\n",
    "plt.subplot(133),plt.imshow(red,cmap = 'gray')\n",
    "plt.subplot(133),plt.imshow(y,cmap = 'brg')\n",
    "plt.title('Red'), plt.xticks([]), plt.yticks([])\n",
    "\n",
    "plt.show()"
   ]
  },
  {
   "cell_type": "markdown",
   "metadata": {},
   "source": [
    "### 4.Combine Edge and Colors (15%)"
   ]
  },
  {
   "cell_type": "code",
   "execution_count": 6,
   "metadata": {
    "collapsed": false
   },
   "outputs": [],
   "source": [
    "edge_color_white = cv2.bitwise_and(white, edges)\n",
    "edge_color_yellow = cv2.bitwise_and(yellow, edges)\n",
    "edge_color_red = cv2.bitwise_and(red, edges)\n",
    "\n",
    "\n",
    "plt.imshow(edge_color_yellow,cmap = 'gray')\n",
    "plt.title('Edge Color Y'), plt.xticks([]), plt.yticks([])\n",
    "plt.subplot(131),plt.imshow(edge_color_white,cmap = 'gray')\n",
    "plt.title('Edge Color W'), plt.xticks([]), plt.yticks([])\n",
    "plt.subplot(132),plt.imshow(edge_color_yellow,cmap = 'gray')\n",
    "plt.title('Edge Color Y'), plt.xticks([]), plt.yticks([])\n",
    "plt.subplot(133),plt.imshow(edge_color_red,cmap = 'gray')\n",
    "plt.title('Edge Color R'), plt.xticks([]), plt.yticks([])\n",
    "\n",
    "plt.show()"
   ]
  },
  {
   "cell_type": "markdown",
   "metadata": {},
   "source": [
    "### 5-1.Find the lines (15%)"
   ]
  },
  {
   "cell_type": "code",
   "execution_count": 7,
   "metadata": {
    "collapsed": false
   },
   "outputs": [
    {
     "name": "stdout",
     "output_type": "stream",
     "text": [
      "found lines\n"
     ]
    }
   ],
   "source": [
    "'''\n",
    "#default threshold 20-> 10\n",
    "'''\n",
    "lines_white = cv2.HoughLinesP(edge_color_white, 1, np.pi/180, 10, np.empty(1), 3, 1)\n",
    "lines_yellow = cv2.HoughLinesP(edge_color_yellow, 1, np.pi/180, 10, np.empty(1), 3, 1)\n",
    "lines_red = cv2.HoughLinesP(edge_color_red, 1, np.pi/180, 10, np.empty(1), 3, 1)\n",
    "\n",
    "color = \"yellow\"\n",
    "lines = lines_yellow\n",
    "bw = yellow\n",
    "\n",
    "if lines is not None:\n",
    "    lines = np.array(lines[0])\n",
    "    print \"found lines\"\n",
    "\n",
    "else:\n",
    "    lines = []\n",
    "    print \"no lines\"\n"
   ]
  },
  {
   "cell_type": "markdown",
   "metadata": {},
   "source": [
    "### Show the lines (yellow)"
   ]
  },
  {
   "cell_type": "code",
   "execution_count": 8,
   "metadata": {
    "collapsed": false
   },
   "outputs": [],
   "source": [
    "image_with_lines = np.copy(dst2)\n",
    "if len(lines)>0:\n",
    "    for x1,y1,x2,y2 in lines:\n",
    "        cv2.line(image_with_lines, (x1,y1), (x2,y2), (0,0,255), 2)\n",
    "        cv2.circle(image_with_lines, (x1,y1), 2, (0,255,0))\n",
    "        cv2.circle(image_with_lines, (x2,y2), 2, (255,0,0))\n",
    "        \n",
    "plt.imshow(image_with_lines,cmap = 'brg')\n",
    "plt.title('Line Image'), plt.xticks([]), plt.yticks([])\n",
    "plt.show()"
   ]
  },
  {
   "cell_type": "markdown",
   "metadata": {},
   "source": [
    "### 6-1.Normals (15%)"
   ]
  },
  {
   "cell_type": "code",
   "execution_count": 9,
   "metadata": {
    "collapsed": false
   },
   "outputs": [],
   "source": [
    "arr_cutoff = np.array((0, 40, 0, 40))\n",
    "arr_ratio = np.array((1./160, 1./120, 1./160, 1./120))\n",
    "        \n",
    "normals = []\n",
    "centers = []\n",
    "if len(lines)>0:\n",
    "    \n",
    "    #find the normalized coordinates\n",
    "    lines_normalized = ((lines + arr_cutoff) * arr_ratio)\n",
    "    '''\n",
    "    #find the dx dy\n",
    "    #find the center point\n",
    "    '''\n",
    "    length = np.sum((lines[:, 0:2] -lines[:, 2:4])**2, axis=1, keepdims=True)**0.5\n",
    "    dx = 1.* (lines[:,3:4]-lines[:,1:2])/length\n",
    "    dy = 1.* (lines[:,0:1]-lines[:,2:3])/length\n",
    "    \n",
    "    centers = np.hstack([(lines[:,0:1]+lines[:,2:3])/2, (lines[:,1:2]+lines[:,3:4])/2])\n",
    "    \n",
    "    #find the vectors' direction\n",
    "    x3 = (centers[:,0:1] - 3.*dx).astype('int')\n",
    "    x3[x3<0]=0\n",
    "    x3[x3>=160]=160-1\n",
    "\n",
    "    y3 = (centers[:,1:2] - 3.*dy).astype('int')\n",
    "    y3[y3<0]=0\n",
    "    y3[y3>=120]=120-1\n",
    "\n",
    "    x4 = (centers[:,0:1] + 3.*dx).astype('int')\n",
    "    x4[x4<0]=0\n",
    "    x4[x4>=160]=160-1\n",
    "\n",
    "    y4 = (centers[:,1:2] + 3.*dy).astype('int')\n",
    "    y4[y4<0]=0\n",
    "    y4[y4>=120]=120-1\n",
    "    \n",
    "    '''   \n",
    "    #find the dx dy direction\n",
    "    '''\n",
    "    flag_signs = (np.logical_and(bw[y3,x3]>0, bw[y4,x4]==0)).astype('int')*2-1\n",
    "    normals = np.hstack([dx, dy]) * flag_signs\n",
    "    \n",
    "    flag = ((lines[:,2]-lines[:,0])*normals[:,1] - (lines[:,3]-lines[:,1])*normals[:,0])>0\n",
    "    for i in range(len(lines)):\n",
    "        if flag[i]:\n",
    "            x1,y1,x2,y2 = lines[i, :]\n",
    "            lines[i, :] = [x2,y2,x1,y1]"
   ]
  },
  {
   "cell_type": "markdown",
   "metadata": {},
   "source": [
    "### 6-2.Draw the Normals "
   ]
  },
  {
   "cell_type": "code",
   "execution_count": 10,
   "metadata": {
    "collapsed": false
   },
   "outputs": [],
   "source": [
    "image_with_lines = np.copy(dst2)\n",
    "if len(centers)>0:\n",
    "    for x,y,dx,dy in np.hstack((centers,normals)):\n",
    "        x3 = int(x - 2.*dx)\n",
    "        y3 = int(y - 2.*dy)\n",
    "        x4 = int(x + 2.*dx)\n",
    "        y4 = int(y + 2.*dy)\n",
    "        cv2.line(image_with_lines, (x3,y3), (x4,y4), (0,0,255), 1)\n",
    "        cv2.circle(image_with_lines, (x3,y3), 1, (0,255,0))\n",
    "        cv2.circle(image_with_lines, (x4,y4), 1, (255,0,0))\n",
    "            \n",
    "plt.subplot(121),plt.imshow(image_with_lines,cmap = 'brg')\n",
    "plt.title('Line Normals'), plt.xticks([]), plt.yticks([])\n",
    "\n",
    "image_with_lines = np.copy(dst2)\n",
    "if len(lines)>0:\n",
    "    for x1,y1,x2,y2 in lines:\n",
    "        cv2.line(image_with_lines, (x1,y1), (x2,y2), (0,0,255), 2)\n",
    "        cv2.circle(image_with_lines, (x1,y1), 2, (0,255,0))\n",
    "        cv2.circle(image_with_lines, (x2,y2), 2, (255,0,0))\n",
    "        \n",
    "plt.subplot(122),plt.imshow(image_with_lines,cmap = 'brg')\n",
    "plt.title('Line Image'), plt.xticks([]), plt.yticks([])\n",
    "plt.show()"
   ]
  },
  {
   "cell_type": "markdown",
   "metadata": {},
   "source": [
    "### 7-1.setup the segment class"
   ]
  },
  {
   "cell_type": "code",
   "execution_count": 11,
   "metadata": {
    "collapsed": false
   },
   "outputs": [],
   "source": [
    "class Vector2D():\n",
    "    def __init__(self):\n",
    "        self.x = 0\n",
    "        self.y = 0  \n",
    "class Segment():\n",
    "    def __init__(self):\n",
    "        self.color = \"\"\n",
    "        self.pixels_normalized = np.array([Vector2D(),Vector2D()])\n",
    "        self.normal = Vector2D()\n",
    "        "
   ]
  },
  {
   "cell_type": "markdown",
   "metadata": {},
   "source": [
    "### 7-2.Store in the SegmentList "
   ]
  },
  {
   "cell_type": "code",
   "execution_count": 12,
   "metadata": {
    "collapsed": false
   },
   "outputs": [
    {
     "name": "stdout",
     "output_type": "stream",
     "text": [
      "1.9625\n"
     ]
    }
   ],
   "source": [
    "segmentMsgList = []\n",
    "\n",
    "for x1,y1,x2,y2,norm_x,norm_y in np.hstack((lines_normalized,normals)):\n",
    "    segment = Segment()\n",
    "    segment.color = color\n",
    "    segment.pixels_normalized[0].x = x1\n",
    "    segment.pixels_normalized[0].y = y1\n",
    "    segment.pixels_normalized[1].x = x2\n",
    "    segment.pixels_normalized[1].y = y2\n",
    "    segment.normal.x = norm_x\n",
    "    segment.normal.y = norm_y\n",
    "\n",
    "    segmentMsgList.append(segment)  \n",
    "    \n",
    "print segmentMsgList[2].pixels_normalized[1].x"
   ]
  },
  {
   "cell_type": "markdown",
   "metadata": {},
   "source": [
    "### 7.3 Print the SegmentList"
   ]
  },
  {
   "cell_type": "code",
   "execution_count": 13,
   "metadata": {
    "collapsed": false
   },
   "outputs": [
    {
     "name": "stdout",
     "output_type": "stream",
     "text": [
      "(1.6875, 2.9916666666666667) (1.6875, 2.8916666666666666)\n",
      "(1.7125000000000001, 2.5083333333333333) (1.7125000000000001, 2.3833333333333333)\n",
      "(1.9625000000000001, 3.8166666666666664) (1.9625000000000001, 3.8416666666666668)\n",
      "(1.83125, 2.7333333333333334) (1.8562500000000002, 2.9500000000000002)\n",
      "(1.9437500000000001, 3.6666666666666665) (1.9500000000000002, 3.75)\n",
      "(1.7125000000000001, 2.3166666666666664) (1.7125000000000001, 2.2749999999999999)\n",
      "(1.875, 3.0666666666666664) (1.8812500000000001, 3.1583333333333332)\n",
      "(1.8187500000000001, 2.3999999999999999) (1.83125, 2.5166666666666666)\n",
      "(1.9875, 4.0666666666666664) (1.9875, 4.0916666666666668)\n",
      "(1.7125000000000001, 2.1583333333333332) (1.7125000000000001, 2.125)\n",
      "(1.6875, 3.1583333333333332) (1.6875, 3.0750000000000002)\n",
      "(1.7312500000000002, 1.9333333333333333) (1.7312500000000002, 1.9583333333333333)\n",
      "(1.96875, 3.9083333333333332) (1.96875, 3.9416666666666664)\n",
      "(2.0, 4.1916666666666664) (2.0187500000000003, 4.3250000000000002)\n",
      "(1.7125000000000001, 2.6166666666666667) (1.7125000000000001, 2.5166666666666666)\n",
      "(1.78125, 2.0416666666666665) (1.78125, 2.0750000000000002)\n",
      "(1.78125, 2.1166666666666667) (1.7875000000000001, 2.1583333333333332)\n",
      "(1.8625, 2.9583333333333335) (1.8625, 3.0083333333333333)\n",
      "(1.7750000000000001, 3.2916666666666665) (1.7937500000000002, 3.2916666666666665)\n",
      "(1.8875000000000002, 3.6499999999999999) (1.90625, 3.6499999999999999)\n",
      "(1.8375000000000001, 2.5833333333333335) (1.8375000000000001, 2.6166666666666667)\n",
      "(1.8062500000000001, 2.2999999999999998) (1.8062500000000001, 2.3250000000000002)\n",
      "(1.9937500000000001, 4.125) (2.0, 4.1833333333333336)\n",
      "(1.7125000000000001, 2.2416666666666667) (1.7125000000000001, 2.2666666666666666)\n",
      "(1.6875, 3.0583333333333331) (1.6875, 3.0)\n",
      "(1.9625000000000001, 3.875) (1.9625000000000001, 3.8999999999999999)\n",
      "(1.8875000000000002, 3.1666666666666665) (1.89375, 3.2583333333333333)\n",
      "(1.71875, 3.3083333333333331) (1.7437500000000001, 3.2999999999999998)\n",
      "(1.9812500000000002, 4.0166666666666666) (1.9875, 4.0583333333333336)\n",
      "(1.8687500000000001, 3.0583333333333331) (1.8687500000000001, 3.0166666666666666)\n",
      "(1.71875, 2.0666666666666664) (1.71875, 2.0416666666666665)\n",
      "(1.8687500000000001, 3.1499999999999999) (1.8687500000000001, 3.1749999999999998)\n"
     ]
    }
   ],
   "source": [
    "for i in segmentMsgList:\n",
    "    print (i.pixels_normalized[0].x,i.pixels_normalized[0].y),(i.pixels_normalized[1].x,i.pixels_normalized[1].y)"
   ]
  },
  {
   "cell_type": "markdown",
   "metadata": {},
   "source": [
    "# Ground Projection "
   ]
  },
  {
   "cell_type": "code",
   "execution_count": 14,
   "metadata": {
    "collapsed": false
   },
   "outputs": [
    {
     "name": "stdout",
     "output_type": "stream",
     "text": [
      "2.99166666667 [ 1. -0.]\n"
     ]
    }
   ],
   "source": [
    "lines_normalized, normals\n",
    "\n",
    "\n",
    "print lines_normalized[0,1],normals[0]\n"
   ]
  },
  {
   "cell_type": "markdown",
   "metadata": {},
   "source": [
    "### camera parameters\n"
   ]
  },
  {
   "cell_type": "code",
   "execution_count": 15,
   "metadata": {
    "collapsed": false
   },
   "outputs": [],
   "source": [
    "import cv2\n",
    "import numpy as np\n",
    "#camera_matrix = np.array([[1.3e+03, 0., 6.0e+02], [0., 1.3e+03, 4.8e+02], [0., 0., 1.]], dtype=np.float32)\n",
    "#dist_coeffs = np.array([-2.4-01, 9.5e-02, -4.0e-04, 8.9e-05, 0.], dtype=np.float32)\n",
    "\n",
    "#Use your own homography & intrinsic camera_matrix and dist_coeffs\n",
    "homography = np.array([[2.135676e-05, -0.0001633665, -0.1806298], [0.000836794, 2.066682e-05, -0.2458254], [-2.970526e-05, -0.006239731, 1]]\n",
    ")\n",
    "matrix = np.array([[339.1216131675718, 0.0, 296.030387566238], [ 0.0, 334.1050435031319, 236.46264717174785],\n",
    "    [0.0, 0.0, 1.0]])\n",
    "coeffs = np.array([-0.31984891320080094, 0.08139903409389779, -0.00015421337856592247, 0.0014103365014739625,\n",
    "    0.0])"
   ]
  },
  {
   "cell_type": "code",
   "execution_count": 16,
   "metadata": {
    "collapsed": false
   },
   "outputs": [
    {
     "name": "stdout",
     "output_type": "stream",
     "text": [
      "[[ 0.2067589 ]\n",
      " [-0.02612232]\n",
      " [ 1.        ]]\n",
      "[[ 0.20354829]\n",
      " [-0.02625196]\n",
      " [ 1.        ]]\n"
     ]
    }
   ],
   "source": [
    "pt_img = np.array([[0.5*640],[0.7*480],[1.]])\n",
    "#print pt_img\n",
    "G = np.dot(homography,pt_img)\n",
    "G/=G[2]\n",
    "print G\n",
    "\n",
    "pt_img = np.array([[[0.5*640,0.7*480]]])\n",
    "\n",
    "xy_undistorted = cv2.undistortPoints(pt_img, matrix, coeffs,R=None, P=matrix)\n",
    "pt_img = np.array([[xy_undistorted[0][0][0]],[xy_undistorted[0][0][1]],[1.]])\n",
    "#print xy_undistorted\n",
    "G_rect = np.dot(homography,pt_img)\n",
    "G_rect/=G_rect[2]\n",
    "print G_rect"
   ]
  },
  {
   "cell_type": "markdown",
   "metadata": {},
   "source": [
    "### Rectify the image (15%) "
   ]
  },
  {
   "cell_type": "code",
   "execution_count": 17,
   "metadata": {
    "collapsed": false
   },
   "outputs": [],
   "source": [
    "from matplotlib import pyplot as plt\n",
    "#Use your own image\n",
    "\n",
    "img = cv2.imread(\"images/a.jpg\")\n",
    "origin = cv2.resize(img, (640, 480),interpolation=cv2.INTER_NEAREST)\n",
    "\n",
    "'''\n",
    "#rectfy the image by opencv 'undistort'\n",
    "'''\n",
    "\n",
    "rec_img = cv2.undistort(origin, matrix, coeffs)\n",
    "\n",
    "origin = cv2.cvtColor(origin,cv2.COLOR_BGR2RGB)\n",
    "plt.subplot(121),plt.imshow(origin,cmap = 'brg')\n",
    "plt.title('Original Image'), plt.xticks([]), plt.yticks([])\n",
    "\n",
    "rec_img = cv2.cvtColor(rec_img,cv2.COLOR_BGR2RGB)\n",
    "plt.subplot(122),plt.imshow(rec_img,cmap = 'brg')\n",
    "plt.title('Rectified Image'), plt.xticks([]), plt.yticks([])\n",
    "\n",
    "plt.show()"
   ]
  },
  {
   "cell_type": "markdown",
   "metadata": {},
   "source": [
    "# Duckietown Lane Filter"
   ]
  },
  {
   "cell_type": "markdown",
   "metadata": {},
   "source": [
    "up/down arrow keys to move, enter to edit\n",
    "\n",
    "Esc to exit edit mode\n",
    "\n",
    "Shift + enter to run code\n",
    "\n",
    "1/2/3... to add comment\n",
    "\n",
    "dd to delete cell\n",
    "\n",
    "press h for more shortcuts"
   ]
  },
  {
   "cell_type": "code",
   "execution_count": 18,
   "metadata": {
    "collapsed": true
   },
   "outputs": [],
   "source": [
    "import numpy as np\n",
    "from scipy.stats import multivariate_normal, entropy\n",
    "from scipy.ndimage.filters import gaussian_filter\n",
    "from math import floor, atan2, pi, cos, sin, sqrt\n",
    "import time\n",
    "from matplotlib import pyplot as plt"
   ]
  },
  {
   "cell_type": "markdown",
   "metadata": {},
   "source": [
    "## Environment Setup"
   ]
  },
  {
   "cell_type": "code",
   "execution_count": 19,
   "metadata": {
    "collapsed": true
   },
   "outputs": [],
   "source": [
    "# constant\n",
    "WHITE = 0\n",
    "YELLOW = 1\n",
    "RED = 2\n",
    "\n",
    "lanewidth = 0.4\n",
    "linewidth_white = 0.04\n",
    "linewidth_yellow = 0.02\n",
    "\n"
   ]
  },
  {
   "cell_type": "markdown",
   "metadata": {},
   "source": [
    "## Generate Vote (Extra Credit 10% for generating multiple votes from all detected segments)"
   ]
  },
  {
   "cell_type": "markdown",
   "metadata": {},
   "source": [
    "#### Setup a line segment\n",
    "* left edge of white lane\n",
    "* right edge of white lane\n",
    "* left edge of yellow lane\n",
    "* right edge of white lane"
   ]
  },
  {
   "cell_type": "code",
   "execution_count": 20,
   "metadata": {
    "collapsed": false
   },
   "outputs": [],
   "source": [
    "\n",
    "# right edge of white lane\n",
    "p1 = np.array([0.8, 0.24])\n",
    "p2 = np.array([0.4, 0.24])\n",
    "p1 = np.array([lines_normalized[0][0],lines_normalized[0][1]])\n",
    "p2 = np.array([lines_normalized[0][2],lines_normalized[0][3]]) \n",
    "seg_color = YELLOW\n",
    "\n",
    "# left edge of white lane\n",
    "p1 = np.array([0.4, 0.2])\n",
    "p2 = np.array([0.8, 0.2])\n",
    "seg_color = WHITE\n",
    "\n",
    "plt.plot([p1[0], p2[0]], [p1[1], p2[1]], 'ro')\n",
    "plt.plot([p1[0], p2[0]], [p1[1], p2[1]])\n",
    "plt.ylabel('y')\n",
    "plt.axis([0, 5, 0, 5])\n",
    "plt.show()"
   ]
  },
  {
   "cell_type": "markdown",
   "metadata": {},
   "source": [
    "#### compute d_i, phi_i, l_i"
   ]
  },
  {
   "cell_type": "code",
   "execution_count": 21,
   "metadata": {
    "collapsed": false
   },
   "outputs": [
    {
     "name": "stdout",
     "output_type": "stream",
     "text": [
      "(0.20000000000000001, 0.20000000000000001, 0.40000000000000002, 0.80000000000000004)\n",
      "left edge of white lane\n",
      "(-0.40000000000000002, -0.0, 0.60000000000000009)\n"
     ]
    }
   ],
   "source": [
    "\n",
    "\n",
    "t_hat = (p2-p1)/np.linalg.norm(p2-p1)\n",
    "n_hat = np.array([-t_hat[1],t_hat[0]])\n",
    "d1 = np.inner(n_hat,p1)\n",
    "d2 = np.inner(n_hat,p2)\n",
    "l1 = np.inner(t_hat,p1)\n",
    "l2 = np.inner(t_hat,p2)\n",
    "\n",
    "print (d1, d2, l1, l2)\n",
    "\n",
    "if (l1 < 0):\n",
    "    l1 = -l1;\n",
    "if (l2 < 0):\n",
    "    l2 = -l2;\n",
    "l_i = (l1+l2)/2\n",
    "d_i = (d1+d2)/2\n",
    "phi_i = np.arcsin(t_hat[1])\n",
    "if seg_color == WHITE: # right lane is white\n",
    "    if(p1[0] > p2[0]): # right edge of white lane\n",
    "        d_i = d_i - linewidth_white\n",
    "        print ('right edge of white lane')\n",
    "    else: # left edge of white lane\n",
    "        d_i = - d_i\n",
    "        phi_i = -phi_i\n",
    "        print ('left edge of white lane')\n",
    "    d_i = d_i - lanewidth/2\n",
    "\n",
    "elif seg_color == YELLOW: # left lane is yellow\n",
    "    if (p2[0] > p1[0]): # left edge of yellow lane\n",
    "        d_i = d_i - linewidth_yellow\n",
    "        phi_i = -phi_i\n",
    "        print ('right edge of yellow lane')\n",
    "    else: # right edge of white lane\n",
    "        d_i = -d_i\n",
    "        print ('right edge of yellow lane')\n",
    "    d_i =  lanewidth/2 - d_i\n",
    "\n",
    "    \n",
    "print (d_i, phi_i, l_i) "
   ]
  },
  {
   "cell_type": "markdown",
   "metadata": {},
   "source": [
    "### Measurement Likelihood"
   ]
  },
  {
   "cell_type": "code",
   "execution_count": 22,
   "metadata": {
    "collapsed": false,
    "scrolled": true
   },
   "outputs": [],
   "source": [
    "# initialize measurement likelihood\n",
    "\n",
    "d_min = -0.7\n",
    "d_max = 0.5\n",
    "delta_d = 0.02\n",
    "phi_min = -pi/2\n",
    "phi_max = pi/2\n",
    "delta_phi = 0.02\n",
    "d, phi = np.mgrid[d_min:d_max:delta_d, phi_min:phi_max:delta_phi]\n",
    "\n",
    "measurement_likelihood = np.zeros(d.shape)\n",
    "\n",
    "fig = plt.figure()\n",
    "ax = fig.add_subplot(111)\n",
    "cax = ax.matshow(measurement_likelihood, interpolation='nearest')\n",
    "fig.colorbar(cax)\n",
    "plt.ylabel('phi')\n",
    "plt.xlabel('d')\n",
    "#ax.set_xticklabels(['']+alpha)\n",
    "#ax.set_yticklabels(['']+alpha)\n",
    "plt.show()\n",
    "\n"
   ]
  },
  {
   "cell_type": "code",
   "execution_count": 23,
   "metadata": {
    "collapsed": false
   },
   "outputs": [
    {
     "name": "stderr",
     "output_type": "stream",
     "text": [
      "/home/robotvision/anaconda2/lib/python2.7/site-packages/ipykernel/__main__.py:3: DeprecationWarning: using a non-integer number instead of an integer will result in an error in the future\n",
      "  app.launch_new_instance()\n"
     ]
    },
    {
     "name": "stdout",
     "output_type": "stream",
     "text": [
      "(14.0, 78.0)\n"
     ]
    }
   ],
   "source": [
    "i = floor((d_i - d_min)/delta_d)\n",
    "j = floor((phi_i - phi_min)/delta_phi)\n",
    "measurement_likelihood[i,j] = measurement_likelihood[i,j] +  1/(l_i)\n",
    "\n",
    "print (i, j)\n",
    "\n",
    "fig = plt.figure()\n",
    "ax = fig.add_subplot(111)\n",
    "cax = ax.matshow(measurement_likelihood, interpolation='nearest')\n",
    "fig.colorbar(cax)\n",
    "plt.ylabel('phi')\n",
    "plt.xlabel('d')\n",
    "#ax.set_xticklabels(['']+alpha)\n",
    "#ax.set_yticklabels(['']+alpha)\n",
    "plt.show()"
   ]
  },
  {
   "cell_type": "markdown",
   "metadata": {
    "collapsed": true
   },
   "source": [
    "## Bayes' Filter (Extra Credit 10% for integrating Bayes' filter for multiple votes)"
   ]
  },
  {
   "cell_type": "code",
   "execution_count": null,
   "metadata": {
    "collapsed": true
   },
   "outputs": [],
   "source": []
  }
 ],
 "metadata": {
  "anaconda-cloud": {},
  "kernelspec": {
   "display_name": "Python 2",
   "language": "python",
   "name": "python2"
  },
  "language_info": {
   "codemirror_mode": {
    "name": "ipython",
    "version": 2
   },
   "file_extension": ".py",
   "mimetype": "text/x-python",
   "name": "python",
   "nbconvert_exporter": "python",
   "pygments_lexer": "ipython2",
   "version": "2.7.12"
  }
 },
 "nbformat": 4,
 "nbformat_minor": 1
}
